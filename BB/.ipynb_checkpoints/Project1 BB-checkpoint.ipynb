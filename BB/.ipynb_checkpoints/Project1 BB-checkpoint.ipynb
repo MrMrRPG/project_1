{
 "cells": [
  {
   "cell_type": "code",
   "execution_count": 2,
   "id": "901800fe",
   "metadata": {},
   "outputs": [],
   "source": [
    "import numpy as np"
   ]
  },
  {
   "cell_type": "code",
   "execution_count": 3,
   "id": "5f36e1bb",
   "metadata": {},
   "outputs": [],
   "source": [
    "import pandas as pd"
   ]
  },
  {
   "cell_type": "code",
   "execution_count": 4,
   "id": "3a54108c",
   "metadata": {},
   "outputs": [
    {
     "data": {
      "text/html": [
       "<div>\n",
       "<style scoped>\n",
       "    .dataframe tbody tr th:only-of-type {\n",
       "        vertical-align: middle;\n",
       "    }\n",
       "\n",
       "    .dataframe tbody tr th {\n",
       "        vertical-align: top;\n",
       "    }\n",
       "\n",
       "    .dataframe thead th {\n",
       "        text-align: right;\n",
       "    }\n",
       "</style>\n",
       "<table border=\"1\" class=\"dataframe\">\n",
       "  <thead>\n",
       "    <tr style=\"text-align: right;\">\n",
       "      <th></th>\n",
       "      <th>Unnamed: 0</th>\n",
       "      <th>Name</th>\n",
       "      <th>Platform</th>\n",
       "      <th>Year_of_Release</th>\n",
       "      <th>Genre</th>\n",
       "      <th>Publisher</th>\n",
       "      <th>NA_Sales</th>\n",
       "      <th>Global_Sales</th>\n",
       "      <th>Critic_Score</th>\n",
       "      <th>User_Score</th>\n",
       "      <th>User_Count</th>\n",
       "    </tr>\n",
       "  </thead>\n",
       "  <tbody>\n",
       "    <tr>\n",
       "      <th>0</th>\n",
       "      <td>0</td>\n",
       "      <td>Wii Sports</td>\n",
       "      <td>Wii</td>\n",
       "      <td>2006.0</td>\n",
       "      <td>Sports</td>\n",
       "      <td>Nintendo</td>\n",
       "      <td>41.36</td>\n",
       "      <td>82.53</td>\n",
       "      <td>76.0</td>\n",
       "      <td>8</td>\n",
       "      <td>322.0</td>\n",
       "    </tr>\n",
       "    <tr>\n",
       "      <th>1</th>\n",
       "      <td>1</td>\n",
       "      <td>Super Mario Bros.</td>\n",
       "      <td>NES</td>\n",
       "      <td>1985.0</td>\n",
       "      <td>Platform</td>\n",
       "      <td>Nintendo</td>\n",
       "      <td>29.08</td>\n",
       "      <td>40.24</td>\n",
       "      <td>NaN</td>\n",
       "      <td>NaN</td>\n",
       "      <td>NaN</td>\n",
       "    </tr>\n",
       "    <tr>\n",
       "      <th>2</th>\n",
       "      <td>2</td>\n",
       "      <td>Mario Kart Wii</td>\n",
       "      <td>Wii</td>\n",
       "      <td>2008.0</td>\n",
       "      <td>Racing</td>\n",
       "      <td>Nintendo</td>\n",
       "      <td>15.68</td>\n",
       "      <td>35.52</td>\n",
       "      <td>82.0</td>\n",
       "      <td>8.3</td>\n",
       "      <td>709.0</td>\n",
       "    </tr>\n",
       "    <tr>\n",
       "      <th>3</th>\n",
       "      <td>3</td>\n",
       "      <td>Wii Sports Resort</td>\n",
       "      <td>Wii</td>\n",
       "      <td>2009.0</td>\n",
       "      <td>Sports</td>\n",
       "      <td>Nintendo</td>\n",
       "      <td>15.61</td>\n",
       "      <td>32.77</td>\n",
       "      <td>80.0</td>\n",
       "      <td>8</td>\n",
       "      <td>192.0</td>\n",
       "    </tr>\n",
       "    <tr>\n",
       "      <th>4</th>\n",
       "      <td>4</td>\n",
       "      <td>Pokemon Red/Pokemon Blue</td>\n",
       "      <td>GB</td>\n",
       "      <td>1996.0</td>\n",
       "      <td>Role-Playing</td>\n",
       "      <td>Nintendo</td>\n",
       "      <td>11.27</td>\n",
       "      <td>31.37</td>\n",
       "      <td>NaN</td>\n",
       "      <td>NaN</td>\n",
       "      <td>NaN</td>\n",
       "    </tr>\n",
       "  </tbody>\n",
       "</table>\n",
       "</div>"
      ],
      "text/plain": [
       "   Unnamed: 0                      Name Platform  Year_of_Release  \\\n",
       "0           0                Wii Sports      Wii           2006.0   \n",
       "1           1         Super Mario Bros.      NES           1985.0   \n",
       "2           2            Mario Kart Wii      Wii           2008.0   \n",
       "3           3         Wii Sports Resort      Wii           2009.0   \n",
       "4           4  Pokemon Red/Pokemon Blue       GB           1996.0   \n",
       "\n",
       "          Genre Publisher  NA_Sales  Global_Sales  Critic_Score User_Score  \\\n",
       "0        Sports  Nintendo     41.36         82.53          76.0          8   \n",
       "1      Platform  Nintendo     29.08         40.24           NaN        NaN   \n",
       "2        Racing  Nintendo     15.68         35.52          82.0        8.3   \n",
       "3        Sports  Nintendo     15.61         32.77          80.0          8   \n",
       "4  Role-Playing  Nintendo     11.27         31.37           NaN        NaN   \n",
       "\n",
       "   User_Count  \n",
       "0       322.0  \n",
       "1         NaN  \n",
       "2       709.0  \n",
       "3       192.0  \n",
       "4         NaN  "
      ]
     },
     "execution_count": 4,
     "metadata": {},
     "output_type": "execute_result"
    }
   ],
   "source": [
    "import matplotlib.pyplot as plt\n",
    "import seaborn as sns\n",
    "from collections import Counter\n",
    "\n",
    "# File to Load (Remember to Change These)\n",
    "file = \"Cleaned_Data/Clearned_Original_Data\"\n",
    "\n",
    "# Read Purchasing File and store into Pandas data frame\n",
    "games = pd.read_csv(file)\n",
    "games.head()"
   ]
  },
  {
   "cell_type": "code",
   "execution_count": 5,
   "id": "e9bf10a4",
   "metadata": {},
   "outputs": [
    {
     "data": {
      "text/plain": [
       "(16719, 11)"
      ]
     },
     "execution_count": 5,
     "metadata": {},
     "output_type": "execute_result"
    }
   ],
   "source": [
    "games.shape"
   ]
  },
  {
   "cell_type": "code",
   "execution_count": 6,
   "id": "9ff724a8",
   "metadata": {},
   "outputs": [
    {
     "name": "stdout",
     "output_type": "stream",
     "text": [
      "<class 'pandas.core.frame.DataFrame'>\n",
      "RangeIndex: 16719 entries, 0 to 16718\n",
      "Data columns (total 11 columns):\n",
      " #   Column           Non-Null Count  Dtype  \n",
      "---  ------           --------------  -----  \n",
      " 0   Unnamed: 0       16719 non-null  int64  \n",
      " 1   Name             16717 non-null  object \n",
      " 2   Platform         16719 non-null  object \n",
      " 3   Year_of_Release  16450 non-null  float64\n",
      " 4   Genre            16717 non-null  object \n",
      " 5   Publisher        16665 non-null  object \n",
      " 6   NA_Sales         16719 non-null  float64\n",
      " 7   Global_Sales     16719 non-null  float64\n",
      " 8   Critic_Score     8137 non-null   float64\n",
      " 9   User_Score       10015 non-null  object \n",
      " 10  User_Count       7590 non-null   float64\n",
      "dtypes: float64(5), int64(1), object(5)\n",
      "memory usage: 1.4+ MB\n"
     ]
    }
   ],
   "source": [
    "games.info()\n"
   ]
  },
  {
   "cell_type": "code",
   "execution_count": 7,
   "id": "e69a6e8b",
   "metadata": {},
   "outputs": [
    {
     "data": {
      "text/plain": [
       "Index(['Unnamed: 0', 'Name', 'Platform', 'Year_of_Release', 'Genre',\n",
       "       'Publisher', 'NA_Sales', 'Global_Sales', 'Critic_Score', 'User_Score',\n",
       "       'User_Count'],\n",
       "      dtype='object')"
      ]
     },
     "execution_count": 7,
     "metadata": {},
     "output_type": "execute_result"
    }
   ],
   "source": [
    "games.columns"
   ]
  },
  {
   "cell_type": "code",
   "execution_count": 8,
   "id": "164654b1",
   "metadata": {},
   "outputs": [
    {
     "data": {
      "text/html": [
       "<div>\n",
       "<style scoped>\n",
       "    .dataframe tbody tr th:only-of-type {\n",
       "        vertical-align: middle;\n",
       "    }\n",
       "\n",
       "    .dataframe tbody tr th {\n",
       "        vertical-align: top;\n",
       "    }\n",
       "\n",
       "    .dataframe thead th {\n",
       "        text-align: right;\n",
       "    }\n",
       "</style>\n",
       "<table border=\"1\" class=\"dataframe\">\n",
       "  <thead>\n",
       "    <tr style=\"text-align: right;\">\n",
       "      <th></th>\n",
       "      <th>Unnamed: 0</th>\n",
       "      <th>Name</th>\n",
       "      <th>Platform</th>\n",
       "      <th>Year_of_Release</th>\n",
       "      <th>Genre</th>\n",
       "      <th>Publisher</th>\n",
       "      <th>NA_Sales</th>\n",
       "      <th>Global_Sales</th>\n",
       "      <th>Critic_Score</th>\n",
       "      <th>User_Score</th>\n",
       "      <th>User_Count</th>\n",
       "    </tr>\n",
       "  </thead>\n",
       "  <tbody>\n",
       "    <tr>\n",
       "      <th>0</th>\n",
       "      <td>0</td>\n",
       "      <td>Wii Sports</td>\n",
       "      <td>Wii</td>\n",
       "      <td>2006.0</td>\n",
       "      <td>Sports</td>\n",
       "      <td>Nintendo</td>\n",
       "      <td>41.36</td>\n",
       "      <td>82.53</td>\n",
       "      <td>76.0</td>\n",
       "      <td>8</td>\n",
       "      <td>322.0</td>\n",
       "    </tr>\n",
       "    <tr>\n",
       "      <th>2</th>\n",
       "      <td>2</td>\n",
       "      <td>Mario Kart Wii</td>\n",
       "      <td>Wii</td>\n",
       "      <td>2008.0</td>\n",
       "      <td>Racing</td>\n",
       "      <td>Nintendo</td>\n",
       "      <td>15.68</td>\n",
       "      <td>35.52</td>\n",
       "      <td>82.0</td>\n",
       "      <td>8.3</td>\n",
       "      <td>709.0</td>\n",
       "    </tr>\n",
       "    <tr>\n",
       "      <th>3</th>\n",
       "      <td>3</td>\n",
       "      <td>Wii Sports Resort</td>\n",
       "      <td>Wii</td>\n",
       "      <td>2009.0</td>\n",
       "      <td>Sports</td>\n",
       "      <td>Nintendo</td>\n",
       "      <td>15.61</td>\n",
       "      <td>32.77</td>\n",
       "      <td>80.0</td>\n",
       "      <td>8</td>\n",
       "      <td>192.0</td>\n",
       "    </tr>\n",
       "    <tr>\n",
       "      <th>6</th>\n",
       "      <td>6</td>\n",
       "      <td>New Super Mario Bros.</td>\n",
       "      <td>DS</td>\n",
       "      <td>2006.0</td>\n",
       "      <td>Platform</td>\n",
       "      <td>Nintendo</td>\n",
       "      <td>11.28</td>\n",
       "      <td>29.80</td>\n",
       "      <td>89.0</td>\n",
       "      <td>8.5</td>\n",
       "      <td>431.0</td>\n",
       "    </tr>\n",
       "    <tr>\n",
       "      <th>7</th>\n",
       "      <td>7</td>\n",
       "      <td>Wii Play</td>\n",
       "      <td>Wii</td>\n",
       "      <td>2006.0</td>\n",
       "      <td>Misc</td>\n",
       "      <td>Nintendo</td>\n",
       "      <td>13.96</td>\n",
       "      <td>28.92</td>\n",
       "      <td>58.0</td>\n",
       "      <td>6.6</td>\n",
       "      <td>129.0</td>\n",
       "    </tr>\n",
       "  </tbody>\n",
       "</table>\n",
       "</div>"
      ],
      "text/plain": [
       "   Unnamed: 0                   Name Platform  Year_of_Release     Genre  \\\n",
       "0           0             Wii Sports      Wii           2006.0    Sports   \n",
       "2           2         Mario Kart Wii      Wii           2008.0    Racing   \n",
       "3           3      Wii Sports Resort      Wii           2009.0    Sports   \n",
       "6           6  New Super Mario Bros.       DS           2006.0  Platform   \n",
       "7           7               Wii Play      Wii           2006.0      Misc   \n",
       "\n",
       "  Publisher  NA_Sales  Global_Sales  Critic_Score User_Score  User_Count  \n",
       "0  Nintendo     41.36         82.53          76.0          8       322.0  \n",
       "2  Nintendo     15.68         35.52          82.0        8.3       709.0  \n",
       "3  Nintendo     15.61         32.77          80.0          8       192.0  \n",
       "6  Nintendo     11.28         29.80          89.0        8.5       431.0  \n",
       "7  Nintendo     13.96         28.92          58.0        6.6       129.0  "
      ]
     },
     "execution_count": 8,
     "metadata": {},
     "output_type": "execute_result"
    }
   ],
   "source": [
    "games.dropna(inplace = True)\n",
    "games.head()\n"
   ]
  },
  {
   "cell_type": "code",
   "execution_count": 9,
   "id": "43b8a169",
   "metadata": {},
   "outputs": [
    {
     "name": "stdout",
     "output_type": "stream",
     "text": [
      "['Wii' 'DS' 'X360' 'PS3' 'PS2' '3DS' 'PS4' 'PS' 'XB' 'PC' 'PSP' 'WiiU'\n",
      " 'GC' 'GBA' 'XOne' 'PSV' 'DC']\n",
      "\n",
      "['Sports' 'Racing' 'Platform' 'Misc' 'Action' 'Puzzle' 'Shooter'\n",
      " 'Fighting' 'Simulation' 'Role-Playing' 'Adventure' 'Strategy']\n"
     ]
    }
   ],
   "source": [
    "# Unique Platforms and Genres\n",
    "print(games.Platform.unique())\n",
    "print(\"\")\n",
    "print(games.Genre.unique())"
   ]
  },
  {
   "cell_type": "code",
   "execution_count": 14,
   "id": "31992e9d",
   "metadata": {},
   "outputs": [
    {
     "data": {
      "image/png": "[encoded data removed]",
      "text/plain": [
       "<Figure size 1440x1440 with 1 Axes>"
      ]
     },
     "metadata": {
      "needs_background": "light"
     },
     "output_type": "display_data"
    },
    {
     "data": {
      "text/plain": [
       "<Figure size 432x288 with 0 Axes>"
      ]
     },
     "metadata": {},
     "output_type": "display_data"
    }
   ],
   "source": [
    "# NA_Sales ratio\n",
    "platform = list(games.Platform.unique())\n",
    "NA_salesratio = []\n",
    "\n",
    "for i in platform:\n",
    "    x = games[games.Platform == i]\n",
    "    NA_sales_rate = sum(x.NA_Sales)/len(x)\n",
    "    NA_salesratio.append(NA_sales_rate)\n",
    "    \n",
    "NA_Sales = pd.DataFrame({\"Platform\": platform,\"NA Sales Ratio\": NA_salesratio})\n",
    "new_NASales = (NA_Sales[\"NA Sales Ratio\"].sort_values(ascending = False).index.values)\n",
    "NASales2 = NA_Sales.reindex(new_NASales)\n",
    "\n",
    "plt.figure(figsize=(20,20))\n",
    "sns.color_palette(\"dark\")\n",
    "sns.barplot(x=NASales2[\"Platform\"], y = NASales2[\"NA Sales Ratio\"], palette = sns.color_palette(\"cubehelix\", 25))\n",
    "\n",
    "plt.title(\"NA_Sales Ratio by Platform\", fontsize = 25)\n",
    "plt.xlabel(\"Platforms\", fontsize=15)\n",
    "plt.ylabel(\"NA_Sales Ratio\", fontsize = 15)\n",
    "plt.show()\n",
    "\n",
    "plt.savefig('Output Data/NA_Sales Ratio by Platform.png')"
   ]
  },
  {
   "cell_type": "code",
   "execution_count": 11,
   "id": "769a4ad4",
   "metadata": {},
   "outputs": [
    {
     "data": {
      "text/plain": [
       "Action          1644\n",
       "Sports           951\n",
       "Shooter          868\n",
       "Role-Playing     715\n",
       "Racing           586\n",
       "Platform         403\n",
       "Misc             386\n",
       "Fighting         379\n",
       "Simulation       302\n",
       "Strategy         277\n",
       "Adventure        264\n",
       "Puzzle           118\n",
       "Name: Genre, dtype: int64"
      ]
     },
     "execution_count": 11,
     "metadata": {},
     "output_type": "execute_result"
    }
   ],
   "source": [
    "games.Genre.value_counts()"
   ]
  },
  {
   "cell_type": "code",
   "execution_count": 13,
   "id": "3f64cb14",
   "metadata": {},
   "outputs": [
    {
     "data": {
      "image/png": "[encoded data removed]",
      "text/plain": [
       "<Figure size 1440x1440 with 1 Axes>"
      ]
     },
     "metadata": {
      "needs_background": "light"
     },
     "output_type": "display_data"
    },
    {
     "data": {
      "text/plain": [
       "<Figure size 432x288 with 0 Axes>"
      ]
     },
     "metadata": {},
     "output_type": "display_data"
    }
   ],
   "source": [
    "genre_count = Counter(games.Genre)\n",
    "genre_data = genre_count.most_common()\n",
    "genre, count = zip(*genre_data)\n",
    "genre, count = list(genre), list(count)\n",
    "\n",
    "plt.figure(figsize = (20,20))\n",
    "sns.barplot(x = genre, y = count, palette = sns. color_palette(\"dark\"))\n",
    "plt.title(\"Frequency of Genre\", fontsize = 25)\n",
    "plt.xlabel(\"Genre\", fontsize = 15)\n",
    "plt.ylabel(\"Frequency\", fontsize = 15)\n",
    "plt.show()\n",
    "\n",
    "plt.savefig('Output Data/Frequency of Genre.png')"
   ]
  },
  {
   "cell_type": "code",
   "execution_count": null,
   "id": "0dbf50bb",
   "metadata": {},
   "outputs": [],
   "source": []
  }
 ],
 "metadata": {
  "kernelspec": {
   "display_name": "Python 3",
   "language": "python",
   "name": "python3"
  },
  "language_info": {
   "codemirror_mode": {
    "name": "ipython",
    "version": 3
   },
   "file_extension": ".py",
   "mimetype": "text/x-python",
   "name": "python",
   "nbconvert_exporter": "python",
   "pygments_lexer": "ipython3",
   "version": "3.8.8"
  }
 },
 "nbformat": 4,
 "nbformat_minor": 5
}
