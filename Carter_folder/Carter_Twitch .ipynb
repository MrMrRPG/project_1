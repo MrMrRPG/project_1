{
 "cells": [
  {
   "cell_type": "code",
   "execution_count": 1,
   "source": [
    "import matplotlib.pyplot as plt\r\n",
    "import pandas as pd\r\n",
    "import numpy as np\r\n",
    "import scipy.stats as st\r\n",
    "\r\n",
    "from scipy.stats import linregress"
   ],
   "outputs": [],
   "metadata": {}
  },
  {
   "cell_type": "code",
   "execution_count": 2,
   "source": [
    "file = \"../Cleaned_Data/Cleaned_Twitch_Data_without_time.csv\"\r\n",
    "file1 = \"../Data/Twitch_global_data.csv\"\r\n",
    "file2 = \"../Cleaned_Data/Cleaned_Twitch_Data.csv\""
   ],
   "outputs": [],
   "metadata": {}
  },
  {
   "cell_type": "code",
   "execution_count": 3,
   "source": [
    "twitch_game = pd.read_csv(file)\r\n",
    "twitch_time = pd.read_csv(file1)\r\n",
    "twitch_merged = pd.read_csv(file2)\r\n",
    "len(twitch_game)"
   ],
   "outputs": [
    {
     "output_type": "execute_result",
     "data": {
      "text/plain": [
       "386"
      ]
     },
     "metadata": {},
     "execution_count": 3
    }
   ],
   "metadata": {}
  },
  {
   "cell_type": "code",
   "execution_count": 4,
   "source": [
    "twitch_game.nunique()"
   ],
   "outputs": [
    {
     "output_type": "execute_result",
     "data": {
      "text/plain": [
       "Name                386\n",
       "Hours_watched       386\n",
       "Peak_viewers        386\n",
       "Peak_channels       225\n",
       "Streamers           360\n",
       "Avg_viewers         357\n",
       "Avg_channels        165\n",
       "Avg_viewer_ratio    386\n",
       "NA_Sales            236\n",
       "Global_Sales        304\n",
       "dtype: int64"
      ]
     },
     "metadata": {},
     "execution_count": 4
    }
   ],
   "metadata": {}
  },
  {
   "cell_type": "code",
   "execution_count": 5,
   "source": [
    "twitch_game.head()"
   ],
   "outputs": [
    {
     "output_type": "execute_result",
     "data": {
      "text/plain": [
       "                        Name  Hours_watched  Peak_viewers  Peak_channels  \\\n",
       "0              7 Days to Die       53420415        734970          14165   \n",
       "1               APB Reloaded         277614         17386             37   \n",
       "2           Alien: Isolation        6969074        266707           1980   \n",
       "3  Animal Crossing: New Leaf         117314         13805             16   \n",
       "4                 Ape Escape         466182        301396             19   \n",
       "\n",
       "   Streamers  Avg_viewers  Avg_channels  Avg_viewer_ratio  NA_Sales  \\\n",
       "0     461557        72976          6495            745.27      0.07   \n",
       "1       1073          399            15             25.83      0.02   \n",
       "2      71724         9490           446            426.90      0.83   \n",
       "3        160          163             1             83.86      2.03   \n",
       "4        118          626             0           1655.03      0.71   \n",
       "\n",
       "   Global_Sales  \n",
       "0          0.19  \n",
       "1          0.04  \n",
       "2          2.39  \n",
       "3          9.16  \n",
       "4          1.67  "
      ],
      "text/html": [
       "<div>\n",
       "<style scoped>\n",
       "    .dataframe tbody tr th:only-of-type {\n",
       "        vertical-align: middle;\n",
       "    }\n",
       "\n",
       "    .dataframe tbody tr th {\n",
       "        vertical-align: top;\n",
       "    }\n",
       "\n",
       "    .dataframe thead th {\n",
       "        text-align: right;\n",
       "    }\n",
       "</style>\n",
       "<table border=\"1\" class=\"dataframe\">\n",
       "  <thead>\n",
       "    <tr style=\"text-align: right;\">\n",
       "      <th></th>\n",
       "      <th>Name</th>\n",
       "      <th>Hours_watched</th>\n",
       "      <th>Peak_viewers</th>\n",
       "      <th>Peak_channels</th>\n",
       "      <th>Streamers</th>\n",
       "      <th>Avg_viewers</th>\n",
       "      <th>Avg_channels</th>\n",
       "      <th>Avg_viewer_ratio</th>\n",
       "      <th>NA_Sales</th>\n",
       "      <th>Global_Sales</th>\n",
       "    </tr>\n",
       "  </thead>\n",
       "  <tbody>\n",
       "    <tr>\n",
       "      <th>0</th>\n",
       "      <td>7 Days to Die</td>\n",
       "      <td>53420415</td>\n",
       "      <td>734970</td>\n",
       "      <td>14165</td>\n",
       "      <td>461557</td>\n",
       "      <td>72976</td>\n",
       "      <td>6495</td>\n",
       "      <td>745.27</td>\n",
       "      <td>0.07</td>\n",
       "      <td>0.19</td>\n",
       "    </tr>\n",
       "    <tr>\n",
       "      <th>1</th>\n",
       "      <td>APB Reloaded</td>\n",
       "      <td>277614</td>\n",
       "      <td>17386</td>\n",
       "      <td>37</td>\n",
       "      <td>1073</td>\n",
       "      <td>399</td>\n",
       "      <td>15</td>\n",
       "      <td>25.83</td>\n",
       "      <td>0.02</td>\n",
       "      <td>0.04</td>\n",
       "    </tr>\n",
       "    <tr>\n",
       "      <th>2</th>\n",
       "      <td>Alien: Isolation</td>\n",
       "      <td>6969074</td>\n",
       "      <td>266707</td>\n",
       "      <td>1980</td>\n",
       "      <td>71724</td>\n",
       "      <td>9490</td>\n",
       "      <td>446</td>\n",
       "      <td>426.90</td>\n",
       "      <td>0.83</td>\n",
       "      <td>2.39</td>\n",
       "    </tr>\n",
       "    <tr>\n",
       "      <th>3</th>\n",
       "      <td>Animal Crossing: New Leaf</td>\n",
       "      <td>117314</td>\n",
       "      <td>13805</td>\n",
       "      <td>16</td>\n",
       "      <td>160</td>\n",
       "      <td>163</td>\n",
       "      <td>1</td>\n",
       "      <td>83.86</td>\n",
       "      <td>2.03</td>\n",
       "      <td>9.16</td>\n",
       "    </tr>\n",
       "    <tr>\n",
       "      <th>4</th>\n",
       "      <td>Ape Escape</td>\n",
       "      <td>466182</td>\n",
       "      <td>301396</td>\n",
       "      <td>19</td>\n",
       "      <td>118</td>\n",
       "      <td>626</td>\n",
       "      <td>0</td>\n",
       "      <td>1655.03</td>\n",
       "      <td>0.71</td>\n",
       "      <td>1.67</td>\n",
       "    </tr>\n",
       "  </tbody>\n",
       "</table>\n",
       "</div>"
      ]
     },
     "metadata": {},
     "execution_count": 5
    }
   ],
   "metadata": {}
  },
  {
   "cell_type": "code",
   "execution_count": 6,
   "source": [
    "twitch_time.head()"
   ],
   "outputs": [
    {
     "output_type": "execute_result",
     "data": {
      "text/plain": [
       "   year  Month  Hours_watched  Avg_viewers  Peak_viewers  Streams  \\\n",
       "0  2016      1      480241904       646355       1275257  7701675   \n",
       "1  2016      2      441859897       635769       1308032  7038520   \n",
       "2  2016      3      490669308       660389       1591551  7390957   \n",
       "3  2016      4      377975447       525696       1775120  6869719   \n",
       "4  2016      5      449836631       605432       1438962  7535519   \n",
       "\n",
       "   Avg_channels Games_streamed  \n",
       "0         20076         12,149  \n",
       "1         20427         12,134  \n",
       "2         20271         12,234  \n",
       "3         16791         12,282  \n",
       "4         19394         12,424  "
      ],
      "text/html": [
       "<div>\n",
       "<style scoped>\n",
       "    .dataframe tbody tr th:only-of-type {\n",
       "        vertical-align: middle;\n",
       "    }\n",
       "\n",
       "    .dataframe tbody tr th {\n",
       "        vertical-align: top;\n",
       "    }\n",
       "\n",
       "    .dataframe thead th {\n",
       "        text-align: right;\n",
       "    }\n",
       "</style>\n",
       "<table border=\"1\" class=\"dataframe\">\n",
       "  <thead>\n",
       "    <tr style=\"text-align: right;\">\n",
       "      <th></th>\n",
       "      <th>year</th>\n",
       "      <th>Month</th>\n",
       "      <th>Hours_watched</th>\n",
       "      <th>Avg_viewers</th>\n",
       "      <th>Peak_viewers</th>\n",
       "      <th>Streams</th>\n",
       "      <th>Avg_channels</th>\n",
       "      <th>Games_streamed</th>\n",
       "    </tr>\n",
       "  </thead>\n",
       "  <tbody>\n",
       "    <tr>\n",
       "      <th>0</th>\n",
       "      <td>2016</td>\n",
       "      <td>1</td>\n",
       "      <td>480241904</td>\n",
       "      <td>646355</td>\n",
       "      <td>1275257</td>\n",
       "      <td>7701675</td>\n",
       "      <td>20076</td>\n",
       "      <td>12,149</td>\n",
       "    </tr>\n",
       "    <tr>\n",
       "      <th>1</th>\n",
       "      <td>2016</td>\n",
       "      <td>2</td>\n",
       "      <td>441859897</td>\n",
       "      <td>635769</td>\n",
       "      <td>1308032</td>\n",
       "      <td>7038520</td>\n",
       "      <td>20427</td>\n",
       "      <td>12,134</td>\n",
       "    </tr>\n",
       "    <tr>\n",
       "      <th>2</th>\n",
       "      <td>2016</td>\n",
       "      <td>3</td>\n",
       "      <td>490669308</td>\n",
       "      <td>660389</td>\n",
       "      <td>1591551</td>\n",
       "      <td>7390957</td>\n",
       "      <td>20271</td>\n",
       "      <td>12,234</td>\n",
       "    </tr>\n",
       "    <tr>\n",
       "      <th>3</th>\n",
       "      <td>2016</td>\n",
       "      <td>4</td>\n",
       "      <td>377975447</td>\n",
       "      <td>525696</td>\n",
       "      <td>1775120</td>\n",
       "      <td>6869719</td>\n",
       "      <td>16791</td>\n",
       "      <td>12,282</td>\n",
       "    </tr>\n",
       "    <tr>\n",
       "      <th>4</th>\n",
       "      <td>2016</td>\n",
       "      <td>5</td>\n",
       "      <td>449836631</td>\n",
       "      <td>605432</td>\n",
       "      <td>1438962</td>\n",
       "      <td>7535519</td>\n",
       "      <td>19394</td>\n",
       "      <td>12,424</td>\n",
       "    </tr>\n",
       "  </tbody>\n",
       "</table>\n",
       "</div>"
      ]
     },
     "metadata": {},
     "execution_count": 6
    }
   ],
   "metadata": {
    "scrolled": true
   }
  },
  {
   "cell_type": "code",
   "execution_count": 7,
   "source": [
    "twitch_merged.head() "
   ],
   "outputs": [
    {
     "output_type": "execute_result",
     "data": {
      "text/plain": [
       "   Unnamed: 0  Rank       Name  Month  Year  Hours_watched Hours_Streamed  \\\n",
       "0           0     6  Minecraft      1  2016       10231056   490002 hours   \n",
       "1           1     6  Minecraft      2  2016        8965231   440549 hours   \n",
       "2           2     7  Minecraft      3  2016       10030905   448411 hours   \n",
       "3           3     8  Minecraft      4  2016        7605339   416176 hours   \n",
       "4           4     9  Minecraft      5  2016        6848639   407008 hours   \n",
       "\n",
       "   Peak_viewers  Peak_channels  Streamers  Avg_viewers  Avg_channels  \\\n",
       "0         64432           1538      88820        13769           659   \n",
       "1         68098           1441      77621        12899           633   \n",
       "2         90527           1438      78524        13500           603   \n",
       "3         61290           1398      72014        10577           578   \n",
       "4         41069           1215      77629         9217           547   \n",
       "\n",
       "   Avg_viewer_ratio  NA_Sales  Global_Sales  \n",
       "0             20.88     11.28         24.16  \n",
       "1             20.35     11.28         24.16  \n",
       "2             22.37     11.28         24.16  \n",
       "3             18.27     11.28         24.16  \n",
       "4             16.83     11.28         24.16  "
      ],
      "text/html": [
       "<div>\n",
       "<style scoped>\n",
       "    .dataframe tbody tr th:only-of-type {\n",
       "        vertical-align: middle;\n",
       "    }\n",
       "\n",
       "    .dataframe tbody tr th {\n",
       "        vertical-align: top;\n",
       "    }\n",
       "\n",
       "    .dataframe thead th {\n",
       "        text-align: right;\n",
       "    }\n",
       "</style>\n",
       "<table border=\"1\" class=\"dataframe\">\n",
       "  <thead>\n",
       "    <tr style=\"text-align: right;\">\n",
       "      <th></th>\n",
       "      <th>Unnamed: 0</th>\n",
       "      <th>Rank</th>\n",
       "      <th>Name</th>\n",
       "      <th>Month</th>\n",
       "      <th>Year</th>\n",
       "      <th>Hours_watched</th>\n",
       "      <th>Hours_Streamed</th>\n",
       "      <th>Peak_viewers</th>\n",
       "      <th>Peak_channels</th>\n",
       "      <th>Streamers</th>\n",
       "      <th>Avg_viewers</th>\n",
       "      <th>Avg_channels</th>\n",
       "      <th>Avg_viewer_ratio</th>\n",
       "      <th>NA_Sales</th>\n",
       "      <th>Global_Sales</th>\n",
       "    </tr>\n",
       "  </thead>\n",
       "  <tbody>\n",
       "    <tr>\n",
       "      <th>0</th>\n",
       "      <td>0</td>\n",
       "      <td>6</td>\n",
       "      <td>Minecraft</td>\n",
       "      <td>1</td>\n",
       "      <td>2016</td>\n",
       "      <td>10231056</td>\n",
       "      <td>490002 hours</td>\n",
       "      <td>64432</td>\n",
       "      <td>1538</td>\n",
       "      <td>88820</td>\n",
       "      <td>13769</td>\n",
       "      <td>659</td>\n",
       "      <td>20.88</td>\n",
       "      <td>11.28</td>\n",
       "      <td>24.16</td>\n",
       "    </tr>\n",
       "    <tr>\n",
       "      <th>1</th>\n",
       "      <td>1</td>\n",
       "      <td>6</td>\n",
       "      <td>Minecraft</td>\n",
       "      <td>2</td>\n",
       "      <td>2016</td>\n",
       "      <td>8965231</td>\n",
       "      <td>440549 hours</td>\n",
       "      <td>68098</td>\n",
       "      <td>1441</td>\n",
       "      <td>77621</td>\n",
       "      <td>12899</td>\n",
       "      <td>633</td>\n",
       "      <td>20.35</td>\n",
       "      <td>11.28</td>\n",
       "      <td>24.16</td>\n",
       "    </tr>\n",
       "    <tr>\n",
       "      <th>2</th>\n",
       "      <td>2</td>\n",
       "      <td>7</td>\n",
       "      <td>Minecraft</td>\n",
       "      <td>3</td>\n",
       "      <td>2016</td>\n",
       "      <td>10030905</td>\n",
       "      <td>448411 hours</td>\n",
       "      <td>90527</td>\n",
       "      <td>1438</td>\n",
       "      <td>78524</td>\n",
       "      <td>13500</td>\n",
       "      <td>603</td>\n",
       "      <td>22.37</td>\n",
       "      <td>11.28</td>\n",
       "      <td>24.16</td>\n",
       "    </tr>\n",
       "    <tr>\n",
       "      <th>3</th>\n",
       "      <td>3</td>\n",
       "      <td>8</td>\n",
       "      <td>Minecraft</td>\n",
       "      <td>4</td>\n",
       "      <td>2016</td>\n",
       "      <td>7605339</td>\n",
       "      <td>416176 hours</td>\n",
       "      <td>61290</td>\n",
       "      <td>1398</td>\n",
       "      <td>72014</td>\n",
       "      <td>10577</td>\n",
       "      <td>578</td>\n",
       "      <td>18.27</td>\n",
       "      <td>11.28</td>\n",
       "      <td>24.16</td>\n",
       "    </tr>\n",
       "    <tr>\n",
       "      <th>4</th>\n",
       "      <td>4</td>\n",
       "      <td>9</td>\n",
       "      <td>Minecraft</td>\n",
       "      <td>5</td>\n",
       "      <td>2016</td>\n",
       "      <td>6848639</td>\n",
       "      <td>407008 hours</td>\n",
       "      <td>41069</td>\n",
       "      <td>1215</td>\n",
       "      <td>77629</td>\n",
       "      <td>9217</td>\n",
       "      <td>547</td>\n",
       "      <td>16.83</td>\n",
       "      <td>11.28</td>\n",
       "      <td>24.16</td>\n",
       "    </tr>\n",
       "  </tbody>\n",
       "</table>\n",
       "</div>"
      ]
     },
     "metadata": {},
     "execution_count": 7
    }
   ],
   "metadata": {}
  },
  {
   "cell_type": "code",
   "execution_count": 8,
   "source": [
    "# Potential questions for analysis \r\n",
    "# Games with most streamers \r\n",
    "# Games with most channels \r\n",
    "# Is there a correlation between games with most streamers and games with most viwers? \r\n",
    "# Is there a change in quantity of streamers by game over time? \r\n",
    "# How have the number of games streamed changed over time? "
   ],
   "outputs": [],
   "metadata": {}
  },
  {
   "cell_type": "code",
   "execution_count": 9,
   "source": [
    "#twitch_game[\"Hours_Streamed\"].max() # how do i convert this? \r\n",
    "# get rid of hours and space\r\n",
    "hours = \"5 hours\" \r\n",
    "hours.replace(\" hours\", \"\")\r\n",
    "hours\r\n",
    "\r\n",
    "twitch_merged[\"Hours_Streamed\"] = twitch_merged[\"Hours_Streamed\"].apply(lambda x: int(x.split(\" \")[0]))                               \r\n",
    "\r\n",
    "# convert to integer \r\n",
    "\r\n"
   ],
   "outputs": [],
   "metadata": {}
  },
  {
   "cell_type": "code",
   "execution_count": 10,
   "source": [
    "twitch_merged.head()\r\n",
    "\r\n",
    "# twitched_merged df2.transpose() // then you could merge on name // "
   ],
   "outputs": [
    {
     "output_type": "execute_result",
     "data": {
      "text/plain": [
       "   Unnamed: 0  Rank       Name  Month  Year  Hours_watched  Hours_Streamed  \\\n",
       "0           0     6  Minecraft      1  2016       10231056          490002   \n",
       "1           1     6  Minecraft      2  2016        8965231          440549   \n",
       "2           2     7  Minecraft      3  2016       10030905          448411   \n",
       "3           3     8  Minecraft      4  2016        7605339          416176   \n",
       "4           4     9  Minecraft      5  2016        6848639          407008   \n",
       "\n",
       "   Peak_viewers  Peak_channels  Streamers  Avg_viewers  Avg_channels  \\\n",
       "0         64432           1538      88820        13769           659   \n",
       "1         68098           1441      77621        12899           633   \n",
       "2         90527           1438      78524        13500           603   \n",
       "3         61290           1398      72014        10577           578   \n",
       "4         41069           1215      77629         9217           547   \n",
       "\n",
       "   Avg_viewer_ratio  NA_Sales  Global_Sales  \n",
       "0             20.88     11.28         24.16  \n",
       "1             20.35     11.28         24.16  \n",
       "2             22.37     11.28         24.16  \n",
       "3             18.27     11.28         24.16  \n",
       "4             16.83     11.28         24.16  "
      ],
      "text/html": [
       "<div>\n",
       "<style scoped>\n",
       "    .dataframe tbody tr th:only-of-type {\n",
       "        vertical-align: middle;\n",
       "    }\n",
       "\n",
       "    .dataframe tbody tr th {\n",
       "        vertical-align: top;\n",
       "    }\n",
       "\n",
       "    .dataframe thead th {\n",
       "        text-align: right;\n",
       "    }\n",
       "</style>\n",
       "<table border=\"1\" class=\"dataframe\">\n",
       "  <thead>\n",
       "    <tr style=\"text-align: right;\">\n",
       "      <th></th>\n",
       "      <th>Unnamed: 0</th>\n",
       "      <th>Rank</th>\n",
       "      <th>Name</th>\n",
       "      <th>Month</th>\n",
       "      <th>Year</th>\n",
       "      <th>Hours_watched</th>\n",
       "      <th>Hours_Streamed</th>\n",
       "      <th>Peak_viewers</th>\n",
       "      <th>Peak_channels</th>\n",
       "      <th>Streamers</th>\n",
       "      <th>Avg_viewers</th>\n",
       "      <th>Avg_channels</th>\n",
       "      <th>Avg_viewer_ratio</th>\n",
       "      <th>NA_Sales</th>\n",
       "      <th>Global_Sales</th>\n",
       "    </tr>\n",
       "  </thead>\n",
       "  <tbody>\n",
       "    <tr>\n",
       "      <th>0</th>\n",
       "      <td>0</td>\n",
       "      <td>6</td>\n",
       "      <td>Minecraft</td>\n",
       "      <td>1</td>\n",
       "      <td>2016</td>\n",
       "      <td>10231056</td>\n",
       "      <td>490002</td>\n",
       "      <td>64432</td>\n",
       "      <td>1538</td>\n",
       "      <td>88820</td>\n",
       "      <td>13769</td>\n",
       "      <td>659</td>\n",
       "      <td>20.88</td>\n",
       "      <td>11.28</td>\n",
       "      <td>24.16</td>\n",
       "    </tr>\n",
       "    <tr>\n",
       "      <th>1</th>\n",
       "      <td>1</td>\n",
       "      <td>6</td>\n",
       "      <td>Minecraft</td>\n",
       "      <td>2</td>\n",
       "      <td>2016</td>\n",
       "      <td>8965231</td>\n",
       "      <td>440549</td>\n",
       "      <td>68098</td>\n",
       "      <td>1441</td>\n",
       "      <td>77621</td>\n",
       "      <td>12899</td>\n",
       "      <td>633</td>\n",
       "      <td>20.35</td>\n",
       "      <td>11.28</td>\n",
       "      <td>24.16</td>\n",
       "    </tr>\n",
       "    <tr>\n",
       "      <th>2</th>\n",
       "      <td>2</td>\n",
       "      <td>7</td>\n",
       "      <td>Minecraft</td>\n",
       "      <td>3</td>\n",
       "      <td>2016</td>\n",
       "      <td>10030905</td>\n",
       "      <td>448411</td>\n",
       "      <td>90527</td>\n",
       "      <td>1438</td>\n",
       "      <td>78524</td>\n",
       "      <td>13500</td>\n",
       "      <td>603</td>\n",
       "      <td>22.37</td>\n",
       "      <td>11.28</td>\n",
       "      <td>24.16</td>\n",
       "    </tr>\n",
       "    <tr>\n",
       "      <th>3</th>\n",
       "      <td>3</td>\n",
       "      <td>8</td>\n",
       "      <td>Minecraft</td>\n",
       "      <td>4</td>\n",
       "      <td>2016</td>\n",
       "      <td>7605339</td>\n",
       "      <td>416176</td>\n",
       "      <td>61290</td>\n",
       "      <td>1398</td>\n",
       "      <td>72014</td>\n",
       "      <td>10577</td>\n",
       "      <td>578</td>\n",
       "      <td>18.27</td>\n",
       "      <td>11.28</td>\n",
       "      <td>24.16</td>\n",
       "    </tr>\n",
       "    <tr>\n",
       "      <th>4</th>\n",
       "      <td>4</td>\n",
       "      <td>9</td>\n",
       "      <td>Minecraft</td>\n",
       "      <td>5</td>\n",
       "      <td>2016</td>\n",
       "      <td>6848639</td>\n",
       "      <td>407008</td>\n",
       "      <td>41069</td>\n",
       "      <td>1215</td>\n",
       "      <td>77629</td>\n",
       "      <td>9217</td>\n",
       "      <td>547</td>\n",
       "      <td>16.83</td>\n",
       "      <td>11.28</td>\n",
       "      <td>24.16</td>\n",
       "    </tr>\n",
       "  </tbody>\n",
       "</table>\n",
       "</div>"
      ]
     },
     "metadata": {},
     "execution_count": 10
    }
   ],
   "metadata": {}
  },
  {
   "cell_type": "code",
   "execution_count": 11,
   "source": [
    "len(twitch_merged)"
   ],
   "outputs": [
    {
     "output_type": "execute_result",
     "data": {
      "text/plain": [
       "3593"
      ]
     },
     "metadata": {},
     "execution_count": 11
    }
   ],
   "metadata": {}
  },
  {
   "cell_type": "code",
   "execution_count": 12,
   "source": [
    "# \"hello my name is\".replace(\" \", \"||\")"
   ],
   "outputs": [],
   "metadata": {}
  },
  {
   "cell_type": "code",
   "execution_count": 13,
   "source": [
    "twitch_merged[\"Hours_Streamed\"].max()"
   ],
   "outputs": [
    {
     "output_type": "execute_result",
     "data": {
      "text/plain": [
       "3591863"
      ]
     },
     "metadata": {},
     "execution_count": 13
    }
   ],
   "metadata": {}
  },
  {
   "cell_type": "code",
   "execution_count": 14,
   "source": [
    "twitch_merged[\"Avg_channels\"].max()"
   ],
   "outputs": [
    {
     "output_type": "execute_result",
     "data": {
      "text/plain": [
       "5252"
      ]
     },
     "metadata": {},
     "execution_count": 14
    }
   ],
   "metadata": {}
  },
  {
   "cell_type": "code",
   "execution_count": 15,
   "source": [
    "twitch_game[\"Streamers\"].max()"
   ],
   "outputs": [
    {
     "output_type": "execute_result",
     "data": {
      "text/plain": [
       "8318936"
      ]
     },
     "metadata": {},
     "execution_count": 15
    }
   ],
   "metadata": {}
  },
  {
   "cell_type": "code",
   "execution_count": 16,
   "source": [
    "twitch_time[\"Streams\"].max()"
   ],
   "outputs": [
    {
     "output_type": "execute_result",
     "data": {
      "text/plain": [
       "25614207"
      ]
     },
     "metadata": {},
     "execution_count": 16
    }
   ],
   "metadata": {}
  },
  {
   "cell_type": "code",
   "execution_count": 17,
   "source": [
    "twitch_time[\"Games_streamed\"].max() \r\n",
    "\r\n",
    "\r\n",
    "twitch_time[\"Games_streamed\"] = twitch_time[\"Games_streamed\"].apply(lambda x: pd.to_numeric(x.replace(\",\", \"\")))\r\n",
    "\r\n",
    "# how do you turn this into a numeric value? "
   ],
   "outputs": [],
   "metadata": {}
  },
  {
   "cell_type": "code",
   "execution_count": 18,
   "source": [
    "twitch_time.dtypes"
   ],
   "outputs": [
    {
     "output_type": "execute_result",
     "data": {
      "text/plain": [
       "year              int64\n",
       "Month             int64\n",
       "Hours_watched     int64\n",
       "Avg_viewers       int64\n",
       "Peak_viewers      int64\n",
       "Streams           int64\n",
       "Avg_channels      int64\n",
       "Games_streamed    int64\n",
       "dtype: object"
      ]
     },
     "metadata": {},
     "execution_count": 18
    }
   ],
   "metadata": {}
  },
  {
   "cell_type": "code",
   "execution_count": 19,
   "source": [
    "twitch_time[\"Games_streamed\"].max() "
   ],
   "outputs": [
    {
     "output_type": "execute_result",
     "data": {
      "text/plain": [
       "36960"
      ]
     },
     "metadata": {},
     "execution_count": 19
    }
   ],
   "metadata": {}
  },
  {
   "cell_type": "code",
   "execution_count": 20,
   "source": [
    "# How have games streamed changed over time? Are there months that tend to be busier than others? "
   ],
   "outputs": [],
   "metadata": {}
  },
  {
   "cell_type": "code",
   "execution_count": 21,
   "source": [
    "game_group = twitch_merged.groupby([\"Name\"])\r\n",
    "game_max_streamers = game_group[\"Streamers\"].max()\r\n",
    "game_group[\"Streamers\"].mean()\r\n",
    "\r\n",
    "avg_streamers = game_group[\"Streamers\"].mean().to_frame(\"avg_streamers\")\r\n",
    "sample_streamers = avg_streamers.sample(5)"
   ],
   "outputs": [],
   "metadata": {}
  },
  {
   "cell_type": "code",
   "execution_count": 22,
   "source": [
    "# Sample of 5 random games and streamer count \r\n",
    "sample_streamers.plot(kind=\"bar\", xlabel= \"Name\", figsize = (6,6))\r\n",
    "\r\n",
    "plt.savefig(\"../Carter_folder/output_data/streamers_random.png\")\r\n",
    "\r\n",
    "plt.show()"
   ],
   "outputs": [
    {
     "output_type": "display_data",
     "data": {
      "text/plain": [
       "<Figure size 432x432 with 1 Axes>"
      ],
      "image/png": "[encoded data removed]"
     },
     "metadata": {
      "needs_background": "light"
     }
    }
   ],
   "metadata": {
    "scrolled": true
   }
  },
  {
   "cell_type": "code",
   "execution_count": 23,
   "source": [
    "asc_game_group = game_group[\"Streamers\"].mean().sort_values(ascending= False)"
   ],
   "outputs": [],
   "metadata": {}
  },
  {
   "cell_type": "code",
   "execution_count": 24,
   "source": [
    "# Top 5 top avg streamers \r\n",
    "asc_game_group.head(5).plot(kind=\"bar\", xlabel= \"Name\", figsize = (6,6))\r\n",
    "\r\n",
    "plt.title(\"Top 5 Games with Most Avg Streamers 2016-2021\")\r\n",
    "plt.xlabel(\"Game\")\r\n",
    "plt.ylabel(\"Streamers\")\r\n",
    "\r\n",
    "plt.savefig(\"../Carter_folder/output_data/top5_streamed_games.png\")\r\n",
    "\r\n",
    "plt.show()"
   ],
   "outputs": [
    {
     "output_type": "display_data",
     "data": {
      "text/plain": [
       "<Figure size 432x432 with 1 Axes>"
      ],
      "image/png": "[encoded data removed]"
     },
     "metadata": {
      "needs_background": "light"
     }
    }
   ],
   "metadata": {}
  },
  {
   "cell_type": "code",
   "execution_count": 25,
   "source": [
    "round(game_group[\"Streamers\"].mean(), 2)"
   ],
   "outputs": [
    {
     "output_type": "execute_result",
     "data": {
      "text/plain": [
       "Name\n",
       "7 Days to Die                      6993.29\n",
       "APB Reloaded                       1073.00\n",
       "Alien: Isolation                   3984.67\n",
       "Animal Crossing: New Leaf           160.00\n",
       "Ape Escape                           59.00\n",
       "                                    ...   \n",
       "Yakuza Kiwami                       419.00\n",
       "Ys VIII: Lacrimosa of Dana          143.00\n",
       "Yu-Gi-Oh! Forbidden Memories        257.00\n",
       "Zelda II: The Adventure of Link     100.00\n",
       "Zero Escape: Zero Time Dilemma      401.00\n",
       "Name: Streamers, Length: 386, dtype: float64"
      ]
     },
     "metadata": {},
     "execution_count": 25
    }
   ],
   "metadata": {}
  },
  {
   "cell_type": "code",
   "execution_count": 26,
   "source": [
    "minecraft = twitch_merged.loc[twitch_merged[\"Name\"]==\"Minecraft\", :]\r\n",
    "minecraft"
   ],
   "outputs": [
    {
     "output_type": "execute_result",
     "data": {
      "text/plain": [
       "    Unnamed: 0  Rank       Name  Month  Year  Hours_watched  Hours_Streamed  \\\n",
       "0            0     6  Minecraft      1  2016       10231056          490002   \n",
       "1            1     6  Minecraft      2  2016        8965231          440549   \n",
       "2            2     7  Minecraft      3  2016       10030905          448411   \n",
       "3            3     8  Minecraft      4  2016        7605339          416176   \n",
       "4            4     9  Minecraft      5  2016        6848639          407008   \n",
       "..         ...   ...        ...    ...   ...            ...             ...   \n",
       "61          61     5  Minecraft      2  2021       82415310         3524597   \n",
       "62          62     6  Minecraft      3  2021       87784445         3419021   \n",
       "63          63     7  Minecraft      4  2021       79728626         3112654   \n",
       "64          64     7  Minecraft      5  2021       76661535         2829132   \n",
       "65          65     6  Minecraft      6  2021       72365696         2841782   \n",
       "\n",
       "    Peak_viewers  Peak_channels  Streamers  Avg_viewers  Avg_channels  \\\n",
       "0          64432           1538      88820        13769           659   \n",
       "1          68098           1441      77621        12899           633   \n",
       "2          90527           1438      78524        13500           603   \n",
       "3          61290           1398      72014        10577           578   \n",
       "4          41069           1215      77629         9217           547   \n",
       "..           ...            ...        ...          ...           ...   \n",
       "61        647145           9853     450593       122824          5252   \n",
       "62        663533           9509     441025       118148          4601   \n",
       "63        749947           8863     405918       110888          4329   \n",
       "64        964018           7751     357562       103178          3807   \n",
       "65        499342           7623     362028       100647          3952   \n",
       "\n",
       "    Avg_viewer_ratio  NA_Sales  Global_Sales  \n",
       "0              20.88     11.28         24.16  \n",
       "1              20.35     11.28         24.16  \n",
       "2              22.37     11.28         24.16  \n",
       "3              18.27     11.28         24.16  \n",
       "4              16.83     11.28         24.16  \n",
       "..               ...       ...           ...  \n",
       "61             23.38     11.28         24.16  \n",
       "62             25.68     11.28         24.16  \n",
       "63             25.61     11.28         24.16  \n",
       "64             27.10     11.28         24.16  \n",
       "65             25.46     11.28         24.16  \n",
       "\n",
       "[66 rows x 15 columns]"
      ],
      "text/html": [
       "<div>\n",
       "<style scoped>\n",
       "    .dataframe tbody tr th:only-of-type {\n",
       "        vertical-align: middle;\n",
       "    }\n",
       "\n",
       "    .dataframe tbody tr th {\n",
       "        vertical-align: top;\n",
       "    }\n",
       "\n",
       "    .dataframe thead th {\n",
       "        text-align: right;\n",
       "    }\n",
       "</style>\n",
       "<table border=\"1\" class=\"dataframe\">\n",
       "  <thead>\n",
       "    <tr style=\"text-align: right;\">\n",
       "      <th></th>\n",
       "      <th>Unnamed: 0</th>\n",
       "      <th>Rank</th>\n",
       "      <th>Name</th>\n",
       "      <th>Month</th>\n",
       "      <th>Year</th>\n",
       "      <th>Hours_watched</th>\n",
       "      <th>Hours_Streamed</th>\n",
       "      <th>Peak_viewers</th>\n",
       "      <th>Peak_channels</th>\n",
       "      <th>Streamers</th>\n",
       "      <th>Avg_viewers</th>\n",
       "      <th>Avg_channels</th>\n",
       "      <th>Avg_viewer_ratio</th>\n",
       "      <th>NA_Sales</th>\n",
       "      <th>Global_Sales</th>\n",
       "    </tr>\n",
       "  </thead>\n",
       "  <tbody>\n",
       "    <tr>\n",
       "      <th>0</th>\n",
       "      <td>0</td>\n",
       "      <td>6</td>\n",
       "      <td>Minecraft</td>\n",
       "      <td>1</td>\n",
       "      <td>2016</td>\n",
       "      <td>10231056</td>\n",
       "      <td>490002</td>\n",
       "      <td>64432</td>\n",
       "      <td>1538</td>\n",
       "      <td>88820</td>\n",
       "      <td>13769</td>\n",
       "      <td>659</td>\n",
       "      <td>20.88</td>\n",
       "      <td>11.28</td>\n",
       "      <td>24.16</td>\n",
       "    </tr>\n",
       "    <tr>\n",
       "      <th>1</th>\n",
       "      <td>1</td>\n",
       "      <td>6</td>\n",
       "      <td>Minecraft</td>\n",
       "      <td>2</td>\n",
       "      <td>2016</td>\n",
       "      <td>8965231</td>\n",
       "      <td>440549</td>\n",
       "      <td>68098</td>\n",
       "      <td>1441</td>\n",
       "      <td>77621</td>\n",
       "      <td>12899</td>\n",
       "      <td>633</td>\n",
       "      <td>20.35</td>\n",
       "      <td>11.28</td>\n",
       "      <td>24.16</td>\n",
       "    </tr>\n",
       "    <tr>\n",
       "      <th>2</th>\n",
       "      <td>2</td>\n",
       "      <td>7</td>\n",
       "      <td>Minecraft</td>\n",
       "      <td>3</td>\n",
       "      <td>2016</td>\n",
       "      <td>10030905</td>\n",
       "      <td>448411</td>\n",
       "      <td>90527</td>\n",
       "      <td>1438</td>\n",
       "      <td>78524</td>\n",
       "      <td>13500</td>\n",
       "      <td>603</td>\n",
       "      <td>22.37</td>\n",
       "      <td>11.28</td>\n",
       "      <td>24.16</td>\n",
       "    </tr>\n",
       "    <tr>\n",
       "      <th>3</th>\n",
       "      <td>3</td>\n",
       "      <td>8</td>\n",
       "      <td>Minecraft</td>\n",
       "      <td>4</td>\n",
       "      <td>2016</td>\n",
       "      <td>7605339</td>\n",
       "      <td>416176</td>\n",
       "      <td>61290</td>\n",
       "      <td>1398</td>\n",
       "      <td>72014</td>\n",
       "      <td>10577</td>\n",
       "      <td>578</td>\n",
       "      <td>18.27</td>\n",
       "      <td>11.28</td>\n",
       "      <td>24.16</td>\n",
       "    </tr>\n",
       "    <tr>\n",
       "      <th>4</th>\n",
       "      <td>4</td>\n",
       "      <td>9</td>\n",
       "      <td>Minecraft</td>\n",
       "      <td>5</td>\n",
       "      <td>2016</td>\n",
       "      <td>6848639</td>\n",
       "      <td>407008</td>\n",
       "      <td>41069</td>\n",
       "      <td>1215</td>\n",
       "      <td>77629</td>\n",
       "      <td>9217</td>\n",
       "      <td>547</td>\n",
       "      <td>16.83</td>\n",
       "      <td>11.28</td>\n",
       "      <td>24.16</td>\n",
       "    </tr>\n",
       "    <tr>\n",
       "      <th>...</th>\n",
       "      <td>...</td>\n",
       "      <td>...</td>\n",
       "      <td>...</td>\n",
       "      <td>...</td>\n",
       "      <td>...</td>\n",
       "      <td>...</td>\n",
       "      <td>...</td>\n",
       "      <td>...</td>\n",
       "      <td>...</td>\n",
       "      <td>...</td>\n",
       "      <td>...</td>\n",
       "      <td>...</td>\n",
       "      <td>...</td>\n",
       "      <td>...</td>\n",
       "      <td>...</td>\n",
       "    </tr>\n",
       "    <tr>\n",
       "      <th>61</th>\n",
       "      <td>61</td>\n",
       "      <td>5</td>\n",
       "      <td>Minecraft</td>\n",
       "      <td>2</td>\n",
       "      <td>2021</td>\n",
       "      <td>82415310</td>\n",
       "      <td>3524597</td>\n",
       "      <td>647145</td>\n",
       "      <td>9853</td>\n",
       "      <td>450593</td>\n",
       "      <td>122824</td>\n",
       "      <td>5252</td>\n",
       "      <td>23.38</td>\n",
       "      <td>11.28</td>\n",
       "      <td>24.16</td>\n",
       "    </tr>\n",
       "    <tr>\n",
       "      <th>62</th>\n",
       "      <td>62</td>\n",
       "      <td>6</td>\n",
       "      <td>Minecraft</td>\n",
       "      <td>3</td>\n",
       "      <td>2021</td>\n",
       "      <td>87784445</td>\n",
       "      <td>3419021</td>\n",
       "      <td>663533</td>\n",
       "      <td>9509</td>\n",
       "      <td>441025</td>\n",
       "      <td>118148</td>\n",
       "      <td>4601</td>\n",
       "      <td>25.68</td>\n",
       "      <td>11.28</td>\n",
       "      <td>24.16</td>\n",
       "    </tr>\n",
       "    <tr>\n",
       "      <th>63</th>\n",
       "      <td>63</td>\n",
       "      <td>7</td>\n",
       "      <td>Minecraft</td>\n",
       "      <td>4</td>\n",
       "      <td>2021</td>\n",
       "      <td>79728626</td>\n",
       "      <td>3112654</td>\n",
       "      <td>749947</td>\n",
       "      <td>8863</td>\n",
       "      <td>405918</td>\n",
       "      <td>110888</td>\n",
       "      <td>4329</td>\n",
       "      <td>25.61</td>\n",
       "      <td>11.28</td>\n",
       "      <td>24.16</td>\n",
       "    </tr>\n",
       "    <tr>\n",
       "      <th>64</th>\n",
       "      <td>64</td>\n",
       "      <td>7</td>\n",
       "      <td>Minecraft</td>\n",
       "      <td>5</td>\n",
       "      <td>2021</td>\n",
       "      <td>76661535</td>\n",
       "      <td>2829132</td>\n",
       "      <td>964018</td>\n",
       "      <td>7751</td>\n",
       "      <td>357562</td>\n",
       "      <td>103178</td>\n",
       "      <td>3807</td>\n",
       "      <td>27.10</td>\n",
       "      <td>11.28</td>\n",
       "      <td>24.16</td>\n",
       "    </tr>\n",
       "    <tr>\n",
       "      <th>65</th>\n",
       "      <td>65</td>\n",
       "      <td>6</td>\n",
       "      <td>Minecraft</td>\n",
       "      <td>6</td>\n",
       "      <td>2021</td>\n",
       "      <td>72365696</td>\n",
       "      <td>2841782</td>\n",
       "      <td>499342</td>\n",
       "      <td>7623</td>\n",
       "      <td>362028</td>\n",
       "      <td>100647</td>\n",
       "      <td>3952</td>\n",
       "      <td>25.46</td>\n",
       "      <td>11.28</td>\n",
       "      <td>24.16</td>\n",
       "    </tr>\n",
       "  </tbody>\n",
       "</table>\n",
       "<p>66 rows × 15 columns</p>\n",
       "</div>"
      ]
     },
     "metadata": {},
     "execution_count": 26
    }
   ],
   "metadata": {}
  },
  {
   "cell_type": "code",
   "execution_count": 27,
   "source": [
    "minecraft_grouped = minecraft.groupby([\"Year\"])"
   ],
   "outputs": [],
   "metadata": {}
  },
  {
   "cell_type": "code",
   "execution_count": 28,
   "source": [
    "minecraft_year = minecraft_grouped.sum()"
   ],
   "outputs": [],
   "metadata": {}
  },
  {
   "cell_type": "code",
   "execution_count": 29,
   "source": [
    "minecraft_year = minecraft_year.reset_index()\r\n",
    "\r\n",
    "x = minecraft_year[\"Year\"]\r\n",
    "y = minecraft_year[\"Streamers\"]\r\n",
    "\r\n",
    "plt.plot(x, y)\r\n",
    "plt.title(\"Number of Minecraft Streamers 2016-2021\")\r\n",
    "plt.xlabel(\"Year\")\r\n",
    "plt.ylabel(\"Streamers (by millions)\")\r\n",
    "\r\n",
    "plt.savefig(\"../Carter_folder//output_data/minecraft_streams_16-21.png\")\r\n",
    "\r\n",
    "plt.show()"
   ],
   "outputs": [
    {
     "output_type": "display_data",
     "data": {
      "text/plain": [
       "<Figure size 432x288 with 1 Axes>"
      ],
      "image/png": "[encoded data removed]"
     },
     "metadata": {
      "needs_background": "light"
     }
    }
   ],
   "metadata": {}
  },
  {
   "cell_type": "code",
   "execution_count": 30,
   "source": [
    "game_group[\"Avg_channels\"].max()"
   ],
   "outputs": [
    {
     "output_type": "execute_result",
     "data": {
      "text/plain": [
       "Name\n",
       "7 Days to Die                      256\n",
       "APB Reloaded                        15\n",
       "Alien: Isolation                    83\n",
       "Animal Crossing: New Leaf            1\n",
       "Ape Escape                           0\n",
       "                                  ... \n",
       "Yakuza Kiwami                       18\n",
       "Ys VIII: Lacrimosa of Dana           4\n",
       "Yu-Gi-Oh! Forbidden Memories         5\n",
       "Zelda II: The Adventure of Link      1\n",
       "Zero Escape: Zero Time Dilemma       5\n",
       "Name: Avg_channels, Length: 386, dtype: int64"
      ]
     },
     "metadata": {},
     "execution_count": 30
    }
   ],
   "metadata": {}
  },
  {
   "cell_type": "code",
   "execution_count": 31,
   "source": [
    "game_group[\"Global_Sales\"].max()"
   ],
   "outputs": [
    {
     "output_type": "execute_result",
     "data": {
      "text/plain": [
       "Name\n",
       "7 Days to Die                      0.19\n",
       "APB Reloaded                       0.04\n",
       "Alien: Isolation                   2.39\n",
       "Animal Crossing: New Leaf          9.16\n",
       "Ape Escape                         1.67\n",
       "                                   ... \n",
       "Yakuza Kiwami                      0.28\n",
       "Ys VIII: Lacrimosa of Dana         0.09\n",
       "Yu-Gi-Oh! Forbidden Memories       1.88\n",
       "Zelda II: The Adventure of Link    4.38\n",
       "Zero Escape: Zero Time Dilemma     0.14\n",
       "Name: Global_Sales, Length: 386, dtype: float64"
      ]
     },
     "metadata": {},
     "execution_count": 31
    }
   ],
   "metadata": {}
  },
  {
   "cell_type": "code",
   "execution_count": 32,
   "source": [
    "twitch_game[\"NA_Sales\"].max()"
   ],
   "outputs": [
    {
     "output_type": "execute_result",
     "data": {
      "text/plain": [
       "32.48"
      ]
     },
     "metadata": {},
     "execution_count": 32
    }
   ],
   "metadata": {}
  },
  {
   "cell_type": "code",
   "execution_count": 33,
   "source": [
    "asc_avg_NA = game_group[\"NA_Sales\"].mean().sort_values(ascending= False)\r\n",
    "\r\n",
    "# Top 5 top avg streamers \r\n",
    "asc_avg_NA.head(5).plot(kind=\"bar\", xlabel= \"Name\", figsize = (6,6))\r\n",
    "\r\n",
    "plt.title(\"Top 5 Most Sold Games in North America 2016-2021\")\r\n",
    "plt.xlabel(\"Game\")\r\n",
    "plt.ylabel(\"North American Sales (by millions)\")\r\n",
    "\r\n",
    "plt.savefig(\"../Carter_folder/output_data/most_soldNA_games.png\")\r\n",
    "\r\n",
    "plt.show()"
   ],
   "outputs": [
    {
     "output_type": "display_data",
     "data": {
      "text/plain": [
       "<Figure size 432x432 with 1 Axes>"
      ],
      "image/png": "[encoded data removed]"
     },
     "metadata": {
      "needs_background": "light"
     }
    }
   ],
   "metadata": {}
  },
  {
   "cell_type": "code",
   "execution_count": 34,
   "source": [
    "asc_avg_gg = game_group[\"Global_Sales\"].mean().sort_values(ascending= False)\r\n",
    "\r\n",
    "# Top 5 top avg streamers \r\n",
    "asc_avg_gg.head(5).plot(kind=\"bar\", xlabel= \"Name\", figsize = (6,6))\r\n",
    "\r\n",
    "plt.title(\"Top 5 Most Sold Games Globally 2016-2021\")\r\n",
    "plt.xlabel(\"Game\")\r\n",
    "plt.ylabel(\"Global Sales (by millions)\")\r\n",
    "\r\n",
    "plt.savefig(\"../Carter_folder/output_data/most_soldGlobal_games.png\")\r\n",
    "\r\n",
    "plt.show()"
   ],
   "outputs": [
    {
     "output_type": "display_data",
     "data": {
      "text/plain": [
       "<Figure size 432x432 with 1 Axes>"
      ],
      "image/png": "[encoded data removed]"
     },
     "metadata": {
      "needs_background": "light"
     }
    }
   ],
   "metadata": {}
  },
  {
   "cell_type": "code",
   "execution_count": 35,
   "source": [
    "x = twitch_game[\"Streamers\"]\r\n",
    "y = twitch_game[\"Global_Sales\"]\r\n",
    "\r\n",
    "twitch_game.plot(kind= \"scatter\", x = \"Streamers\", y = \"Global_Sales\")\r\n",
    "\r\n",
    "(slope, intercept, rvalue, pvalue, stderr) = linregress(x, y)\r\n",
    "regress_values = x * slope + intercept\r\n",
    "line_eq = \"y = \" + str(round(slope,2)) + \"x + \" + str(round(intercept,2))\r\n",
    "plt.scatter(x, y)\r\n",
    "plt.plot(x,regress_values,\"r-\")\r\n",
    "plt.title('Avg Streamers vs Global Sales')\r\n",
    "\r\n",
    "plt.savefig(\"../Carter_folder/output_data/streamersVglobalsales.png\")\r\n",
    "\r\n",
    "\r\n",
    "plt.show()"
   ],
   "outputs": [
    {
     "output_type": "display_data",
     "data": {
      "text/plain": [
       "<Figure size 432x288 with 1 Axes>"
      ],
      "image/png": "[encoded data removed]"
     },
     "metadata": {
      "needs_background": "light"
     }
    }
   ],
   "metadata": {
    "scrolled": true
   }
  },
  {
   "cell_type": "code",
   "execution_count": 36,
   "source": [
    "print(slope)"
   ],
   "outputs": [
    {
     "output_type": "stream",
     "name": "stdout",
     "text": [
      "2.6010753601621144e-06\n"
     ]
    }
   ],
   "metadata": {}
  },
  {
   "cell_type": "code",
   "execution_count": 37,
   "source": [
    "x = twitch_game[\"Streamers\"]\r\n",
    "y = twitch_game[\"NA_Sales\"]\r\n",
    "\r\n",
    "twitch_game.plot(kind= \"scatter\", x = \"Streamers\", y = \"NA_Sales\")\r\n",
    "\r\n",
    "(slope, intercept, rvalue, pvalue, stderr) = linregress(x, y)\r\n",
    "regress_values = x * slope + intercept\r\n",
    "line_eq = \"y = \" + str(round(slope,2)) + \"x + \" + str(round(intercept,2))\r\n",
    "plt.scatter(x, y)\r\n",
    "plt.plot(x,regress_values,\"r-\")\r\n",
    "plt.title(f'{line_eq}',color = 'r', fontsize = 14)\r\n",
    "\r\n",
    "plt.savefig(\"../Carter_folder/output_data/streamersVNAsales.png\")\r\n",
    "\r\n",
    "plt.show()"
   ],
   "outputs": [
    {
     "output_type": "display_data",
     "data": {
      "text/plain": [
       "<Figure size 432x288 with 1 Axes>"
      ],
      "image/png": "[encoded data removed]"
     },
     "metadata": {
      "needs_background": "light"
     }
    }
   ],
   "metadata": {}
  },
  {
   "cell_type": "code",
   "execution_count": 38,
   "source": [
    "x = twitch_game[\"Peak_viewers\"]\r\n",
    "y = twitch_game[\"NA_Sales\"]\r\n",
    "\r\n",
    "twitch_game.plot(kind= \"scatter\", x = \"Peak_viewers\", y = \"NA_Sales\")\r\n",
    "\r\n",
    "(slope, intercept, rvalue, pvalue, stderr) = linregress(x, y)\r\n",
    "regress_values = x * slope + intercept\r\n",
    "line_eq = \"y = \" + str(round(slope,2)) + \"x + \" + str(round(intercept,2))\r\n",
    "plt.scatter(x, y)\r\n",
    "plt.plot(x,regress_values,\"r-\")\r\n",
    "plt.title(f'{line_eq}',color = 'r', fontsize = 14)\r\n",
    "\r\n",
    "plt.savefig(\"../Carter_folder/output_data/peakviewersVNAsales.png\")\r\n",
    "\r\n",
    "plt.show()"
   ],
   "outputs": [
    {
     "output_type": "display_data",
     "data": {
      "text/plain": [
       "<Figure size 432x288 with 1 Axes>"
      ],
      "image/png": "[encoded data removed]"
     },
     "metadata": {
      "needs_background": "light"
     }
    }
   ],
   "metadata": {}
  },
  {
   "cell_type": "code",
   "execution_count": 39,
   "source": [
    "x = twitch_game[\"Peak_viewers\"]\r\n",
    "y = twitch_game[\"Global_Sales\"]\r\n",
    "\r\n",
    "twitch_game.plot(kind= \"scatter\", x = \"Peak_viewers\", y = \"Global_Sales\")\r\n",
    "(slope, intercept, rvalue, pvalue, stderr) = linregress(x, y)\r\n",
    "regress_values = x * slope + intercept\r\n",
    "line_eq = \"y = \" + str(round(slope,2)) + \"x + \" + str(round(intercept,2))\r\n",
    "plt.scatter(x, y)\r\n",
    "plt.plot(x,regress_values,\"r-\")\r\n",
    "plt.title(f'{line_eq}',color = 'r', fontsize = 14)\r\n",
    "\r\n",
    "plt.savefig(\"../Carter_folder/output_data/peakviewersVGlobalSales.png\")\r\n",
    "\r\n",
    "plt.show()"
   ],
   "outputs": [
    {
     "output_type": "display_data",
     "data": {
      "text/plain": [
       "<Figure size 432x288 with 1 Axes>"
      ],
      "image/png": "[encoded data removed]"
     },
     "metadata": {
      "needs_background": "light"
     }
    }
   ],
   "metadata": {}
  },
  {
   "cell_type": "code",
   "execution_count": 40,
   "source": [
    "x = twitch_game[\"Avg_channels\"]\r\n",
    "y = twitch_game[\"Global_Sales\"]\r\n",
    "\r\n",
    "\r\n",
    "twitch_game.plot(kind= \"scatter\", x = \"Avg_channels\", y = \"Global_Sales\")\r\n",
    "(slope, intercept, rvalue, pvalue, stderr) = linregress(x, y)\r\n",
    "regress_values = x * slope + intercept\r\n",
    "line_eq = \"y = \" + str(round(slope,2)) + \"x + \" + str(round(intercept,2))\r\n",
    "plt.scatter(x, y)\r\n",
    "plt.plot(x,regress_values,\"r-\")\r\n",
    "plt.title('Average Channel Count vs. Global Sales')\r\n",
    "\r\n",
    "plt.savefig(\"../Carter_folder/output_data/AvgChannelsVGlobalSales.png\")\r\n",
    "\r\n",
    "plt.show()"
   ],
   "outputs": [
    {
     "output_type": "display_data",
     "data": {
      "text/plain": [
       "<Figure size 432x288 with 1 Axes>"
      ],
      "image/png": "[encoded data removed]"
     },
     "metadata": {
      "needs_background": "light"
     }
    }
   ],
   "metadata": {}
  },
  {
   "cell_type": "code",
   "execution_count": 41,
   "source": [
    "print(rvalue)"
   ],
   "outputs": [
    {
     "output_type": "stream",
     "name": "stdout",
     "text": [
      "0.2818453484311105\n"
     ]
    }
   ],
   "metadata": {}
  },
  {
   "cell_type": "code",
   "execution_count": 42,
   "source": [
    "x = twitch_game[\"Avg_channels\"]\r\n",
    "y = twitch_game[\"NA_Sales\"]\r\n",
    "\r\n",
    "twitch_game.plot(kind= \"scatter\", x = \"Avg_channels\", y = \"NA_Sales\")\r\n",
    "\r\n",
    "(slope, intercept, rvalue, pvalue, stderr) = linregress(x, y)\r\n",
    "regress_values = x * slope + intercept\r\n",
    "line_eq = \"y = \" + str(round(slope,2)) + \"x + \" + str(round(intercept,2))\r\n",
    "plt.scatter(x, y)\r\n",
    "plt.plot(x,regress_values,\"r-\")\r\n",
    "plt.title(f'{line_eq}',color = 'r', fontsize = 14)\r\n",
    "\r\n",
    "plt.savefig(\"../Carter_folder/output_data/AvgChannelsVNASales.png\")\r\n",
    "\r\n",
    "plt.show()"
   ],
   "outputs": [
    {
     "output_type": "display_data",
     "data": {
      "text/plain": [
       "<Figure size 432x288 with 1 Axes>"
      ],
      "image/png": "[encoded data removed]"
     },
     "metadata": {
      "needs_background": "light"
     }
    }
   ],
   "metadata": {}
  },
  {
   "cell_type": "code",
   "execution_count": 43,
   "source": [
    "x = twitch_game[\"NA_Sales\"]\r\n",
    "y = twitch_game[\"Global_Sales\"]\r\n",
    "\r\n",
    "twitch_game.plot(kind= \"scatter\", x = \"NA_Sales\", y = \"Global_Sales\")\r\n",
    "\r\n",
    "(slope, intercept, rvalue, pvalue, stderr) = linregress(x, y)\r\n",
    "regress_values = x * slope + intercept\r\n",
    "line_eq = \"y = \" + str(round(slope,2)) + \"x + \" + str(round(intercept,2))\r\n",
    "plt.scatter(x, y)\r\n",
    "plt.plot(x,regress_values,\"r-\")\r\n",
    "plt.title(f'{line_eq}',color = 'r', fontsize = 14)\r\n",
    "\r\n",
    "plt.savefig(\"../Carter_folder/output_data/GlobalSalesVNASales.png\")\r\n",
    "\r\n",
    "plt.show()"
   ],
   "outputs": [
    {
     "output_type": "display_data",
     "data": {
      "text/plain": [
       "<Figure size 432x288 with 1 Axes>"
      ],
      "image/png": "[encoded data removed]"
     },
     "metadata": {
      "needs_background": "light"
     }
    }
   ],
   "metadata": {}
  },
  {
   "cell_type": "code",
   "execution_count": null,
   "source": [],
   "outputs": [],
   "metadata": {}
  },
  {
   "cell_type": "code",
   "execution_count": null,
   "source": [],
   "outputs": [],
   "metadata": {}
  }
 ],
 "metadata": {
  "kernelspec": {
   "name": "python3",
   "display_name": "Python 3.8.5 64-bit ('base': conda)"
  },
  "language_info": {
   "codemirror_mode": {
    "name": "ipython",
    "version": 3
   },
   "file_extension": ".py",
   "mimetype": "text/x-python",
   "name": "python",
   "nbconvert_exporter": "python",
   "pygments_lexer": "ipython3",
   "version": "3.8.5"
  },
  "interpreter": {
   "hash": "0507ca4863d74825e19143f64061a0d98fde3c42611721bd9ba5ee5b8cfcb010"
  }
 },
 "nbformat": 4,
 "nbformat_minor": 5
}